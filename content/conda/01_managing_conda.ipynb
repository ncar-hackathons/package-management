{
 "cells": [
  {
   "cell_type": "markdown",
   "metadata": {
    "slideshow": {
     "slide_type": "slide"
    }
   },
   "source": [
    "# Package Management with Conda and Pip"
   ]
  },
  {
   "cell_type": "markdown",
   "metadata": {
    "slideshow": {
     "slide_type": "slide"
    }
   },
   "source": [
    "# Anaconda vs Miniconda vs \"conda\"\n",
    "Anaconda is a free and open-source distribution of the Python programming language for scientific computing. Anaconda includes a wide selection of Python packages that are installed by default, with the ability to install more packages using the \"conda\" package manager program.\n",
    "\n",
    "Miniconda is a lightweight implementation of the Anaconda distribution that provides the \"conda\" package manager, but does not include the large collection of scientific Python packages installed by default like Anaconda does.\n",
    "\n",
    "\"conda\" is simply the package and environment manager program that allows new software to be installed. The \"conda\" program is available whether you choose to install Anaconda or Miniconda."
   ]
  },
  {
   "cell_type": "markdown",
   "metadata": {
    "slideshow": {
     "slide_type": "slide"
    }
   },
   "source": [
    "# pip\n",
    "\n",
    "Pip is a more basic package manager than conda that allows you to install software from PyPI (Python Package Index) as well as from GitHub. It works particularly well for pure Python packages, but things can get complicated when compiled code and external (non-Python) dependencies are involved. \n",
    "\n",
    "Not all packages are available on conda, so pip is still useful even if you're primarily using conda. All conda environments that have Python installed should also include pip by default.\n",
    "\n",
    "```\n",
    "pip install -e 'git+https://github.com/NCAR/esmlab.git#egg=esmlab'\n",
    "```\n",
    "\n",
    "`-e` installs in \"editable\" mode\n",
    "\n",
    "`git+` at the beginning of a URL installs from a git repository"
   ]
  },
  {
   "cell_type": "markdown",
   "metadata": {
    "slideshow": {
     "slide_type": "slide"
    }
   },
   "source": [
    "# Installing and testing conda\n",
    "\n",
    "Download and run the conda installer script \n",
    "```\n",
    "wget https://repo.anaconda.com/miniconda/Miniconda3-latest-MacOSX-x86_64.sh\n",
    "sh ./Miniconda3-latest-MacOSX-x86_64.sh\n",
    "```\n",
    "OR\n",
    "```\n",
    "wget https://repo.anaconda.com/miniconda/Miniconda3-latest-Linux-x86_64.sh\n",
    "sh ./Miniconda3-latest-Linux-x86_64.sh\n",
    "```\n",
    "\n",
    "Then open a new terminal and check to ensure the `conda` program exists:"
   ]
  },
  {
   "cell_type": "code",
   "execution_count": 1,
   "metadata": {
    "slideshow": {
     "slide_type": "fragment"
    }
   },
   "outputs": [
    {
     "name": "stdout",
     "output_type": "stream",
     "text": [
      "conda 4.6.14\n",
      "/Users/hallock/miniconda3/bin/conda\n"
     ]
    }
   ],
   "source": [
    "conda --version\n",
    "which conda"
   ]
  },
  {
   "cell_type": "markdown",
   "metadata": {
    "slideshow": {
     "slide_type": "slide"
    }
   },
   "source": [
    "# conda gotchas\n",
    "\n",
    "Note that the conda installation instructions recommend running `conda init {shell}`, but that this will likely result in whichever Python installation was previously used by default being overridden by the new conda-provided Python. The safest way to install conda without interfering with existing Python installs would be to add the directory `/path/to/miniconda/condabin` to your PATH environment variable, which will provide just the `conda` program but not `python`.\n",
    "\n",
    "Behavior with shells other than `bash` (`tcsh` in particular) is a bit inconsistent. `conda activate` does not seem to work properly in `tcsh`, but you could manually set your PATH environment variable to include the appropriate environment's `bin` directory."
   ]
  },
  {
   "cell_type": "markdown",
   "metadata": {
    "slideshow": {
     "slide_type": "slide"
    }
   },
   "source": [
    "# conda \"channels\"\n",
    "\n",
    "\"Conda packages are downloaded from remote channels, which are URLs to directories containing conda packages. The conda command searches a default set of channels, and packages are automatically downloaded and updated from https://repo.anaconda.com/pkgs/. You can modify what remote channels are automatically searched. You might want to do this to maintain a private or internal channel. For details, see how to modify your channel lists.\" - [conda documentation](https://docs.conda.io/projects/conda/en/latest/user-guide/concepts/channels.html)\n",
    "\n",
    "Generally speaking, conda \"channels\" are intended to provide packages that are guaranteed to be compatible with each other. Mixing and matching packages between channels is a common source of frustration for users, so using a single source for all of your packages is generally preferred, if possible."
   ]
  },
  {
   "cell_type": "markdown",
   "metadata": {
    "slideshow": {
     "slide_type": "slide"
    }
   },
   "source": [
    "# \"conda-forge\"\n",
    "\n",
    "The `conda-forge` channel is a community led collection of recipes and packages. As of June 4, 2019, There are 6862 repositories (nearly all of which represent unique conda packages) and 1373 members in the conda-forge organization on GitHub.\n",
    "\n",
    "I usually recommend configuring conda to use `conda-forge` by default:"
   ]
  },
  {
   "cell_type": "code",
   "execution_count": 2,
   "metadata": {
    "slideshow": {
     "slide_type": "fragment"
    }
   },
   "outputs": [
    {
     "name": "stdout",
     "output_type": "stream",
     "text": [
      "Warning: 'conda-forge' already in 'channels' list, moving to the top\n"
     ]
    }
   ],
   "source": [
    "conda config --add channels conda-forge"
   ]
  },
  {
   "cell_type": "markdown",
   "metadata": {
    "slideshow": {
     "slide_type": "slide"
    }
   },
   "source": [
    "# Installing packages"
   ]
  },
  {
   "cell_type": "code",
   "execution_count": 3,
   "metadata": {
    "slideshow": {
     "slide_type": "fragment"
    }
   },
   "outputs": [
    {
     "name": "stdout",
     "output_type": "stream",
     "text": [
      "(base) Collecting package metadata: done\n",
      "Solving environment: done\n",
      "\n",
      "# All requested packages already installed.\n",
      "\n",
      "(base) Collecting package metadata: done\n",
      "Solving environment: done\n",
      "\n",
      "# All requested packages already installed.\n",
      "\n",
      "(base) "
     ]
    },
    {
     "ename": "",
     "evalue": "1",
     "output_type": "error",
     "traceback": []
    }
   ],
   "source": [
    "conda activate base\n",
    "conda install -y python=3\n",
    "conda install -y numpy xarray"
   ]
  },
  {
   "cell_type": "markdown",
   "metadata": {
    "slideshow": {
     "slide_type": "slide"
    }
   },
   "source": [
    "# Upgrading packages"
   ]
  },
  {
   "cell_type": "code",
   "execution_count": 4,
   "metadata": {
    "slideshow": {
     "slide_type": "fragment"
    }
   },
   "outputs": [
    {
     "name": "stdout",
     "output_type": "stream",
     "text": [
      "(base) Collecting package metadata: done\n",
      "Solving environment: done\n",
      "\n",
      "# All requested packages already installed.\n",
      "\n",
      "(base) "
     ]
    },
    {
     "ename": "",
     "evalue": "1",
     "output_type": "error",
     "traceback": []
    }
   ],
   "source": [
    "conda activate base\n",
    "conda update -y python numpy xarray"
   ]
  },
  {
   "cell_type": "markdown",
   "metadata": {
    "slideshow": {
     "slide_type": "slide"
    }
   },
   "source": [
    "# Conda environments\n",
    "\n",
    "By default, conda operates in the `base` \"environment\". However, this means that every package installed in the `base` environment must be compatible with each other, even if they are not all used for the same projects. Installing packages into separate environments for each project/task prevents any possible collision between packages.\n",
    "\n",
    "`conda env create -f /path/to/environment.yml # .yml file contains env name and packages to be installed`"
   ]
  },
  {
   "cell_type": "code",
   "execution_count": 5,
   "metadata": {
    "slideshow": {
     "slide_type": "fragment"
    }
   },
   "outputs": [
    {
     "name": "stdout",
     "output_type": "stream",
     "text": [
      "(base) (base) "
     ]
    },
    {
     "ename": "",
     "evalue": "1",
     "output_type": "error",
     "traceback": []
    }
   ],
   "source": [
    "conda create -y --name env1 python=2.7 numpy >/dev/null\n",
    "conda create -y --name env2 python=3 numpy xarray >/dev/null"
   ]
  },
  {
   "cell_type": "markdown",
   "metadata": {
    "slideshow": {
     "slide_type": "slide"
    }
   },
   "source": [
    "# Conda environment demo"
   ]
  },
  {
   "cell_type": "code",
   "execution_count": 6,
   "metadata": {
    "slideshow": {
     "slide_type": "fragment"
    }
   },
   "outputs": [
    {
     "name": "stdout",
     "output_type": "stream",
     "text": [
      "(env1) python version: 2.7.15\n",
      "numpy version: 1.16.4\n",
      "Traceback (most recent call last):\n",
      "  File \"<string>\", line 1, in <module>\n",
      "ImportError: No module named xarray\n",
      "(env1) (base) "
     ]
    },
    {
     "ename": "",
     "evalue": "1",
     "output_type": "error",
     "traceback": []
    }
   ],
   "source": [
    "conda activate env1\n",
    "python -c 'from __future__ import print_function;import numpy, platform;print(\"python version: %s\" % platform.python_version());print(\"numpy version: %s\" % numpy.__version__);import xarray;print(\"xarray version: %s\" % xarray.__version__)'\n",
    "conda deactivate"
   ]
  },
  {
   "cell_type": "code",
   "execution_count": 7,
   "metadata": {
    "slideshow": {
     "slide_type": "fragment"
    }
   },
   "outputs": [
    {
     "name": "stdout",
     "output_type": "stream",
     "text": [
      "(env2) python version: 3.7.3\n",
      "numpy version: 1.16.4\n",
      "xarray version: 0.12.1\n",
      "(env2) (base) "
     ]
    },
    {
     "ename": "",
     "evalue": "1",
     "output_type": "error",
     "traceback": []
    }
   ],
   "source": [
    "conda activate env2\n",
    "python -c 'from __future__ import print_function;import numpy, platform;print(\"python version: %s\" % platform.python_version());print(\"numpy version: %s\" % numpy.__version__);import xarray;print(\"xarray version: %s\" % xarray.__version__)'\n",
    "conda deactivate"
   ]
  },
  {
   "cell_type": "markdown",
   "metadata": {
    "slideshow": {
     "slide_type": "slide"
    }
   },
   "source": [
    "# Fixing a broken environment"
   ]
  },
  {
   "cell_type": "code",
   "execution_count": 8,
   "metadata": {
    "slideshow": {
     "slide_type": "fragment"
    }
   },
   "outputs": [
    {
     "name": "stdout",
     "output_type": "stream",
     "text": [
      "(broken) broken NCL...\n",
      "(broken) dyld: Library not loaded: @rpath/libpoppler.71.dylib\n",
      "  Referenced from: /Users/hallock/miniconda3/envs/broken/lib/libgdal.20.dylib\n",
      "  Reason: image not found\n",
      "Abort trap: 6\n",
      "(broken) "
     ]
    },
    {
     "ename": "",
     "evalue": "1",
     "output_type": "error",
     "traceback": []
    }
   ],
   "source": [
    "conda deactivate\n",
    "conda env remove -n broken >/dev/null 2>&1\n",
    "conda env create -f broken.yml >/dev/null 2>&1 # this will fail because there is no broken.yml file included\n",
    "conda activate broken\n",
    "echo \"broken NCL...\"\n",
    "ncl -V"
   ]
  },
  {
   "cell_type": "code",
   "execution_count": 9,
   "metadata": {
    "slideshow": {
     "slide_type": "fragment"
    }
   },
   "outputs": [
    {
     "name": "stdout",
     "output_type": "stream",
     "text": [
      "running \"conda update\" to fix NCL\n",
      "(broken) (broken) fixed NCL\n",
      "(broken) 6.6.2\n",
      "(broken) "
     ]
    }
   ],
   "source": [
    "echo 'running \"conda update\" to fix NCL'\n",
    "conda update --all -y >/dev/null 2>&1\n",
    "echo \"fixed NCL\"\n",
    "ncl -V\n",
    "conda deactivate"
   ]
  },
  {
   "cell_type": "markdown",
   "metadata": {
    "slideshow": {
     "slide_type": "slide"
    }
   },
   "source": [
    "# Reproducible Science\n",
    "\n",
    "Backup a working production environment using `conda create` with the `--clone` option, update/install packages as needed, and then test the clone environment to ensure everything still works as expected. Once the clone environment has been verified, `conda env remove` the original environment and clone the new environment back to the original name, and verify that everything is still working."
   ]
  },
  {
   "cell_type": "code",
   "execution_count": 10,
   "metadata": {
    "slideshow": {
     "slide_type": "fragment"
    }
   },
   "outputs": [
    {
     "name": "stdout",
     "output_type": "stream",
     "text": [
      "(original_env) python version: 3.7.3\n",
      "numpy version: 1.16.4\n",
      "xarray version: 0.12.1\n",
      "Traceback (most recent call last):\n",
      "  File \"<string>\", line 1, in <module>\n",
      "ModuleNotFoundError: No module named 'dask'\n",
      "(original_env) "
     ]
    }
   ],
   "source": [
    "conda create -y --name original_env python=3 numpy xarray >/dev/null\n",
    "conda activate original_env\n",
    "python -c 'from __future__ import print_function;import numpy, platform;print(\"python version: %s\" % platform.python_version());print(\"numpy version: %s\" % numpy.__version__);import xarray;print(\"xarray version: %s\" % xarray.__version__);import dask;print(\"dask version: %s\" % dask.__version__)'\n",
    "conda deactivate"
   ]
  },
  {
   "cell_type": "markdown",
   "metadata": {
    "slideshow": {
     "slide_type": "slide"
    }
   },
   "source": [
    "### Clone original environment to temporary environment"
   ]
  },
  {
   "cell_type": "code",
   "execution_count": 11,
   "metadata": {
    "slideshow": {
     "slide_type": "fragment"
    }
   },
   "outputs": [
    {
     "name": "stdout",
     "output_type": "stream",
     "text": [
      "(temp_env) Collecting package metadata: done\n",
      "Solving environment: done\n",
      "\n",
      "# All requested packages already installed.\n",
      "\n",
      "(temp_env) (temp_env) (temp_env) python version: 3.7.3\n",
      "numpy version: 1.16.4\n",
      "xarray version: 0.12.1\n",
      "dask version: 1.2.2\n",
      "(temp_env) "
     ]
    }
   ],
   "source": [
    "conda create -y --name temp_env --clone original_env >/dev/null\n",
    "conda activate temp_env\n",
    "conda update -y --all # update any packages\n",
    "conda install -y dask >/dev/null\n",
    "# run tests\n",
    "python -c 'from __future__ import print_function;import numpy, platform;print(\"python version: %s\" % platform.python_version());print(\"numpy version: %s\" % numpy.__version__);import xarray;print(\"xarray version: %s\" % xarray.__version__);import dask;print(\"dask version: %s\" % dask.__version__)'\n",
    "conda deactivate"
   ]
  },
  {
   "cell_type": "markdown",
   "metadata": {
    "slideshow": {
     "slide_type": "slide"
    }
   },
   "source": [
    "### Remove original environment, replace with clone of temporary environment"
   ]
  },
  {
   "cell_type": "code",
   "execution_count": 12,
   "metadata": {
    "slideshow": {
     "slide_type": "fragment"
    }
   },
   "outputs": [
    {
     "name": "stdout",
     "output_type": "stream",
     "text": [
      "\n",
      "Remove all packages in environment /Users/hallock/miniconda3/envs/original_env:\n",
      "\n",
      "(original_env) (original_env) python version: 3.7.3\n",
      "numpy version: 1.16.4\n",
      "xarray version: 0.12.1\n",
      "dask version: 1.2.2\n",
      "(original_env) \n",
      "Remove all packages in environment /Users/hallock/miniconda3/envs/temp_env:\n",
      "\n",
      "(original_env) "
     ]
    }
   ],
   "source": [
    "conda env remove --name original_env\n",
    "conda create --name original_env --clone temp_env >/dev/null\n",
    "conda activate original_env\n",
    "# run tests again\n",
    "python -c 'from __future__ import print_function;import numpy, platform;print(\"python version: %s\" % platform.python_version());print(\"numpy version: %s\" % numpy.__version__);import xarray;print(\"xarray version: %s\" % xarray.__version__);import dask;print(\"dask version: %s\" % dask.__version__)'\n",
    "conda env remove --name temp_env\n",
    "conda deactivate"
   ]
  }
 ],
 "metadata": {
  "kernelspec": {
   "display_name": "Bash",
   "language": "bash",
   "name": "bash"
  },
  "language_info": {
   "codemirror_mode": "shell",
   "file_extension": ".sh",
   "mimetype": "text/x-sh",
   "name": "bash"
  }
 },
 "nbformat": 4,
 "nbformat_minor": 2
}
